{
 "cells": [
  {
   "cell_type": "code",
   "execution_count": 3,
   "metadata": {},
   "outputs": [],
   "source": [
    "import numpy as np\n",
    "import pandas as pd\n",
    "import matplotlib.pyplot as plt \n",
    "import seaborn as sns\n",
    "# Modelling\n",
    "from sklearn.metrics import accuracy_score, classification_report\n",
    "from sklearn.neighbors import KNeighborsClassifier\n",
    "from sklearn.tree import DecisionTreeClassifier\n",
    "from sklearn.ensemble import RandomForestClassifier, AdaBoostClassifier\n",
    "from sklearn.svm import SVC\n",
    "from sklearn.linear_model import LogisticRegression\n",
    "from sklearn.model_selection import RandomizedSearchCV\n",
    "from catboost import CatBoostClassifier\n",
    "from xgboost import XGBClassifier\n",
    "import warnings"
   ]
  },
  {
   "cell_type": "code",
   "execution_count": 24,
   "metadata": {},
   "outputs": [],
   "source": [
    "from sklearn.metrics import r2_score, mean_absolute_error, mean_squared_error\n",
    "from sklearn.model_selection import RandomizedSearchCV"
   ]
  },
  {
   "cell_type": "code",
   "execution_count": 29,
   "metadata": {},
   "outputs": [],
   "source": [
    "df = pd.read_csv('data/Depression_dataset.csv')"
   ]
  },
  {
   "cell_type": "code",
   "execution_count": 30,
   "metadata": {},
   "outputs": [
    {
     "data": {
      "text/html": [
       "<div>\n",
       "<style scoped>\n",
       "    .dataframe tbody tr th:only-of-type {\n",
       "        vertical-align: middle;\n",
       "    }\n",
       "\n",
       "    .dataframe tbody tr th {\n",
       "        vertical-align: top;\n",
       "    }\n",
       "\n",
       "    .dataframe thead th {\n",
       "        text-align: right;\n",
       "    }\n",
       "</style>\n",
       "<table border=\"1\" class=\"dataframe\">\n",
       "  <thead>\n",
       "    <tr style=\"text-align: right;\">\n",
       "      <th></th>\n",
       "      <th>Q3A</th>\n",
       "      <th>Q5A</th>\n",
       "      <th>Q10A</th>\n",
       "      <th>Q13A</th>\n",
       "      <th>Q16A</th>\n",
       "      <th>Q17A</th>\n",
       "      <th>Q24A</th>\n",
       "      <th>Q26A</th>\n",
       "      <th>Q31A</th>\n",
       "      <th>Q42A</th>\n",
       "      <th>...</th>\n",
       "      <th>Reserved-quiet</th>\n",
       "      <th>Disorganized-careless</th>\n",
       "      <th>Calm-emotionally_stable</th>\n",
       "      <th>religion</th>\n",
       "      <th>Conventional-uncreative</th>\n",
       "      <th>education</th>\n",
       "      <th>orientation</th>\n",
       "      <th>married</th>\n",
       "      <th>age_group</th>\n",
       "      <th>Condition</th>\n",
       "    </tr>\n",
       "  </thead>\n",
       "  <tbody>\n",
       "    <tr>\n",
       "      <th>0</th>\n",
       "      <td>1</td>\n",
       "      <td>3</td>\n",
       "      <td>0</td>\n",
       "      <td>3</td>\n",
       "      <td>3</td>\n",
       "      <td>2</td>\n",
       "      <td>3</td>\n",
       "      <td>3</td>\n",
       "      <td>3</td>\n",
       "      <td>3</td>\n",
       "      <td>...</td>\n",
       "      <td>7</td>\n",
       "      <td>5</td>\n",
       "      <td>1</td>\n",
       "      <td>12</td>\n",
       "      <td>1</td>\n",
       "      <td>2</td>\n",
       "      <td>1</td>\n",
       "      <td>1</td>\n",
       "      <td>0</td>\n",
       "      <td>Severe</td>\n",
       "    </tr>\n",
       "    <tr>\n",
       "      <th>1</th>\n",
       "      <td>1</td>\n",
       "      <td>3</td>\n",
       "      <td>1</td>\n",
       "      <td>3</td>\n",
       "      <td>2</td>\n",
       "      <td>3</td>\n",
       "      <td>1</td>\n",
       "      <td>2</td>\n",
       "      <td>1</td>\n",
       "      <td>1</td>\n",
       "      <td>...</td>\n",
       "      <td>4</td>\n",
       "      <td>7</td>\n",
       "      <td>1</td>\n",
       "      <td>7</td>\n",
       "      <td>5</td>\n",
       "      <td>2</td>\n",
       "      <td>3</td>\n",
       "      <td>1</td>\n",
       "      <td>0</td>\n",
       "      <td>Severe</td>\n",
       "    </tr>\n",
       "    <tr>\n",
       "      <th>2</th>\n",
       "      <td>3</td>\n",
       "      <td>3</td>\n",
       "      <td>3</td>\n",
       "      <td>3</td>\n",
       "      <td>3</td>\n",
       "      <td>3</td>\n",
       "      <td>3</td>\n",
       "      <td>0</td>\n",
       "      <td>3</td>\n",
       "      <td>3</td>\n",
       "      <td>...</td>\n",
       "      <td>6</td>\n",
       "      <td>5</td>\n",
       "      <td>3</td>\n",
       "      <td>4</td>\n",
       "      <td>2</td>\n",
       "      <td>2</td>\n",
       "      <td>3</td>\n",
       "      <td>1</td>\n",
       "      <td>0</td>\n",
       "      <td>Extremely Severe</td>\n",
       "    </tr>\n",
       "    <tr>\n",
       "      <th>3</th>\n",
       "      <td>1</td>\n",
       "      <td>2</td>\n",
       "      <td>2</td>\n",
       "      <td>0</td>\n",
       "      <td>1</td>\n",
       "      <td>2</td>\n",
       "      <td>0</td>\n",
       "      <td>1</td>\n",
       "      <td>2</td>\n",
       "      <td>1</td>\n",
       "      <td>...</td>\n",
       "      <td>4</td>\n",
       "      <td>1</td>\n",
       "      <td>6</td>\n",
       "      <td>4</td>\n",
       "      <td>1</td>\n",
       "      <td>1</td>\n",
       "      <td>5</td>\n",
       "      <td>1</td>\n",
       "      <td>0</td>\n",
       "      <td>Moderate</td>\n",
       "    </tr>\n",
       "    <tr>\n",
       "      <th>4</th>\n",
       "      <td>2</td>\n",
       "      <td>3</td>\n",
       "      <td>2</td>\n",
       "      <td>3</td>\n",
       "      <td>2</td>\n",
       "      <td>3</td>\n",
       "      <td>1</td>\n",
       "      <td>3</td>\n",
       "      <td>2</td>\n",
       "      <td>2</td>\n",
       "      <td>...</td>\n",
       "      <td>5</td>\n",
       "      <td>6</td>\n",
       "      <td>3</td>\n",
       "      <td>10</td>\n",
       "      <td>3</td>\n",
       "      <td>3</td>\n",
       "      <td>1</td>\n",
       "      <td>1</td>\n",
       "      <td>0</td>\n",
       "      <td>Extremely Severe</td>\n",
       "    </tr>\n",
       "  </tbody>\n",
       "</table>\n",
       "<p>5 rows × 25 columns</p>\n",
       "</div>"
      ],
      "text/plain": [
       "   Q3A  Q5A  Q10A  Q13A  Q16A  Q17A  Q24A  Q26A  Q31A  Q42A  ...  \\\n",
       "0    1    3     0     3     3     2     3     3     3     3  ...   \n",
       "1    1    3     1     3     2     3     1     2     1     1  ...   \n",
       "2    3    3     3     3     3     3     3     0     3     3  ...   \n",
       "3    1    2     2     0     1     2     0     1     2     1  ...   \n",
       "4    2    3     2     3     2     3     1     3     2     2  ...   \n",
       "\n",
       "   Reserved-quiet  Disorganized-careless  Calm-emotionally_stable  religion  \\\n",
       "0               7                      5                        1        12   \n",
       "1               4                      7                        1         7   \n",
       "2               6                      5                        3         4   \n",
       "3               4                      1                        6         4   \n",
       "4               5                      6                        3        10   \n",
       "\n",
       "   Conventional-uncreative  education  orientation  married  age_group  \\\n",
       "0                        1          2            1        1          0   \n",
       "1                        5          2            3        1          0   \n",
       "2                        2          2            3        1          0   \n",
       "3                        1          1            5        1          0   \n",
       "4                        3          3            1        1          0   \n",
       "\n",
       "          Condition  \n",
       "0            Severe  \n",
       "1            Severe  \n",
       "2  Extremely Severe  \n",
       "3          Moderate  \n",
       "4  Extremely Severe  \n",
       "\n",
       "[5 rows x 25 columns]"
      ]
     },
     "execution_count": 30,
     "metadata": {},
     "output_type": "execute_result"
    }
   ],
   "source": [
    "df.head()"
   ]
  },
  {
   "cell_type": "code",
   "execution_count": 31,
   "metadata": {},
   "outputs": [],
   "source": [
    "df.drop(columns=['religion'],axis=1,inplace=True)"
   ]
  },
  {
   "cell_type": "code",
   "execution_count": 32,
   "metadata": {},
   "outputs": [
    {
     "data": {
      "text/plain": [
       "Index(['Q3A', 'Q5A', 'Q10A', 'Q13A', 'Q16A', 'Q17A', 'Q24A', 'Q26A', 'Q31A',\n",
       "       'Q42A', 'Extraverted-enthusiastic', 'Critical-quarrelsome',\n",
       "       'Dependable-self_disciplined', 'Anxious-easily upset',\n",
       "       'Open to new experiences-complex', 'Reserved-quiet',\n",
       "       'Disorganized-careless', 'Calm-emotionally_stable',\n",
       "       'Conventional-uncreative', 'education', 'orientation', 'married',\n",
       "       'age_group', 'Condition'],\n",
       "      dtype='object')"
      ]
     },
     "execution_count": 32,
     "metadata": {},
     "output_type": "execute_result"
    }
   ],
   "source": [
    "df.columns"
   ]
  },
  {
   "cell_type": "code",
   "execution_count": 39,
   "metadata": {},
   "outputs": [],
   "source": [
    "from sklearn.metrics import accuracy_score, precision_score, recall_score, f1_score, confusion_matrix"
   ]
  },
  {
   "cell_type": "code",
   "execution_count": 33,
   "metadata": {},
   "outputs": [],
   "source": [
    "X = df.drop(columns=['Condition'],axis=1)"
   ]
  },
  {
   "cell_type": "code",
   "execution_count": 34,
   "metadata": {},
   "outputs": [],
   "source": [
    "y=df['Condition']"
   ]
  },
  {
   "cell_type": "code",
   "execution_count": 35,
   "metadata": {},
   "outputs": [
    {
     "data": {
      "text/plain": [
       "((27321, 23), (6831, 23))"
      ]
     },
     "execution_count": 35,
     "metadata": {},
     "output_type": "execute_result"
    }
   ],
   "source": [
    "# separate dataset into train and test\n",
    "from sklearn.model_selection import train_test_split\n",
    "X_train, X_test, y_train, y_test = train_test_split(X,y,test_size=0.2,random_state=42)\n",
    "X_train.shape, X_test.shape"
   ]
  },
  {
   "cell_type": "code",
   "execution_count": 41,
   "metadata": {},
   "outputs": [],
   "source": [
    "def evaluate_model(true, predicted):\n",
    "    accuracy = accuracy_score(true, predicted)\n",
    "    precision = precision_score(true, predicted, average='weighted')\n",
    "    recall = recall_score(true, predicted, average='weighted')\n",
    "    f1 = f1_score(true, predicted, average='weighted')\n",
    "    confusion_mat = confusion_matrix(true, predicted)\n",
    "    return accuracy, precision, recall, f1, confusion_mat"
   ]
  },
  {
   "cell_type": "code",
   "execution_count": 46,
   "metadata": {},
   "outputs": [
    {
     "name": "stderr",
     "output_type": "stream",
     "text": [
      "c:\\Backend\\venv\\lib\\site-packages\\sklearn\\neighbors\\_classification.py:211: FutureWarning: Unlike other reduction functions (e.g. `skew`, `kurtosis`), the default behavior of `mode` typically preserves the axis it acts along. In SciPy 1.11.0, this behavior will change: the default value of `keepdims` will become False, the `axis` over which the statistic is taken will be eliminated, and the value None will no longer be accepted. Set `keepdims` to True or False to avoid this warning.\n",
      "  mode, _ = stats.mode(_y[neigh_ind, k], axis=1)\n",
      "c:\\Backend\\venv\\lib\\site-packages\\sklearn\\neighbors\\_classification.py:211: FutureWarning: Unlike other reduction functions (e.g. `skew`, `kurtosis`), the default behavior of `mode` typically preserves the axis it acts along. In SciPy 1.11.0, this behavior will change: the default value of `keepdims` will become False, the `axis` over which the statistic is taken will be eliminated, and the value None will no longer be accepted. Set `keepdims` to True or False to avoid this warning.\n",
      "  mode, _ = stats.mode(_y[neigh_ind, k], axis=1)\n"
     ]
    },
    {
     "name": "stdout",
     "output_type": "stream",
     "text": [
      "KNeighborsClassifier\n",
      "Model performance for Training set:\n",
      "- Accuracy: 0.8273\n",
      "- Precision: 0.8275\n",
      "- Recall: 0.8273\n",
      "- F1 Score: 0.8238\n",
      "- Confusion Matrix:\n",
      " [[8398    0   21    0  252]\n",
      " [   1 1659  597  476    5]\n",
      " [  61  586 4038   92  334]\n",
      " [   0  337  147 5774    0]\n",
      " [ 774   62  965    7 2735]]\n",
      "----------------------------------\n",
      "Model performance for Test set:\n",
      "- Accuracy: 0.7214\n",
      "- Precision: 0.7209\n",
      "- Recall: 0.7214\n",
      "- F1 Score: 0.7149\n",
      "- Confusion Matrix:\n",
      " [[2023    0   12    0  137]\n",
      " [   0  267  233  150    6]\n",
      " [  15  254  776   43  126]\n",
      " [   0  154   52 1388    0]\n",
      " [ 321   23  375    2  474]]\n",
      "===================================\n",
      "\n",
      "\n",
      "DecisionTreeClassifier\n",
      "Model performance for Training set:\n",
      "- Accuracy: 1.0000\n",
      "- Precision: 1.0000\n",
      "- Recall: 1.0000\n",
      "- F1 Score: 1.0000\n",
      "- Confusion Matrix:\n",
      " [[8671    0    0    0    0]\n",
      " [   0 2738    0    0    0]\n",
      " [   0    0 5111    0    0]\n",
      " [   0    0    0 6258    0]\n",
      " [   0    0    0    0 4543]]\n",
      "----------------------------------\n",
      "Model performance for Test set:\n",
      "- Accuracy: 0.7491\n",
      "- Precision: 0.7528\n",
      "- Recall: 0.7491\n",
      "- F1 Score: 0.7508\n",
      "- Confusion Matrix:\n",
      " [[1942    0   14    0  216]\n",
      " [   0  306  194  137   19]\n",
      " [   9  201  760   33  211]\n",
      " [   0  162   38 1390    4]\n",
      " [ 186   14  275    1  719]]\n",
      "===================================\n",
      "\n",
      "\n",
      "RandomForestClassifier\n",
      "Model performance for Training set:\n",
      "- Accuracy: 1.0000\n",
      "- Precision: 1.0000\n",
      "- Recall: 1.0000\n",
      "- F1 Score: 1.0000\n",
      "- Confusion Matrix:\n",
      " [[8671    0    0    0    0]\n",
      " [   0 2738    0    0    0]\n",
      " [   0    0 5111    0    0]\n",
      " [   0    0    0 6258    0]\n",
      " [   0    0    0    0 4543]]\n",
      "----------------------------------\n",
      "Model performance for Test set:\n",
      "- Accuracy: 0.8450\n",
      "- Precision: 0.8410\n",
      "- Recall: 0.8450\n",
      "- F1 Score: 0.8405\n",
      "- Confusion Matrix:\n",
      " [[2068    0    1    0  103]\n",
      " [   0  306  207  141    2]\n",
      " [   1   85  994   11  123]\n",
      " [   0   72    6 1516    0]\n",
      " [ 137    0  170    0  888]]\n",
      "===================================\n",
      "\n",
      "\n",
      "AdaBoostClassifier\n",
      "Model performance for Training set:\n",
      "- Accuracy: 0.8436\n",
      "- Precision: 0.8481\n",
      "- Recall: 0.8436\n",
      "- F1 Score: 0.8451\n",
      "- Confusion Matrix:\n",
      " [[8285    0    0    0  386]\n",
      " [   0 1895  597  246    0]\n",
      " [   0  447 4049    6  609]\n",
      " [   0  757    1 5500    0]\n",
      " [ 572    2  649    0 3320]]\n",
      "----------------------------------\n",
      "Model performance for Test set:\n",
      "- Accuracy: 0.8483\n",
      "- Precision: 0.8529\n",
      "- Recall: 0.8483\n",
      "- F1 Score: 0.8497\n",
      "- Confusion Matrix:\n",
      " [[2069    0    1    0  102]\n",
      " [   0  439  174   43    0]\n",
      " [   0  109  978    1  126]\n",
      " [   0  160    1 1433    0]\n",
      " [ 141    0  178    0  876]]\n",
      "===================================\n",
      "\n",
      "\n",
      "SVC\n",
      "Model performance for Training set:\n",
      "- Accuracy: 0.8741\n",
      "- Precision: 0.8728\n",
      "- Recall: 0.8741\n",
      "- F1 Score: 0.8733\n",
      "- Confusion Matrix:\n",
      " [[8341    0    0    0  330]\n",
      " [   0 1826  500  412    0]\n",
      " [   0  414 4192   18  487]\n",
      " [   0  342    0 5916    0]\n",
      " [ 399    3  536    0 3605]]\n",
      "----------------------------------\n",
      "Model performance for Test set:\n",
      "- Accuracy: 0.8641\n",
      "- Precision: 0.8637\n",
      "- Recall: 0.8641\n",
      "- F1 Score: 0.8636\n",
      "- Confusion Matrix:\n",
      " [[2066    0    0    0  106]\n",
      " [   0  421  150   85    0]\n",
      " [   1  116  982    3  112]\n",
      " [   0   80    1 1513    0]\n",
      " [ 113    0  161    0  921]]\n",
      "===================================\n",
      "\n",
      "\n"
     ]
    },
    {
     "name": "stderr",
     "output_type": "stream",
     "text": [
      "c:\\Backend\\venv\\lib\\site-packages\\sklearn\\linear_model\\_logistic.py:763: ConvergenceWarning: lbfgs failed to converge (status=1):\n",
      "STOP: TOTAL NO. of ITERATIONS REACHED LIMIT.\n",
      "\n",
      "Increase the number of iterations (max_iter) or scale the data as shown in:\n",
      "    https://scikit-learn.org/stable/modules/preprocessing.html\n",
      "Please also refer to the documentation for alternative solver options:\n",
      "    https://scikit-learn.org/stable/modules/linear_model.html#logistic-regression\n",
      "  n_iter_i = _check_optimize_result(\n"
     ]
    },
    {
     "name": "stdout",
     "output_type": "stream",
     "text": [
      "LogisticRegression\n",
      "Model performance for Training set:\n",
      "- Accuracy: 0.8109\n",
      "- Precision: 0.8076\n",
      "- Recall: 0.8109\n",
      "- F1 Score: 0.8086\n",
      "- Confusion Matrix:\n",
      " [[8097    0    4    0  570]\n",
      " [   0 1444  775  513    6]\n",
      " [  13  491 3819   30  758]\n",
      " [   0  403   43 5812    0]\n",
      " [ 723    4  833    0 2983]]\n",
      "----------------------------------\n",
      "Model performance for Test set:\n",
      "- Accuracy: 0.8151\n",
      "- Precision: 0.8127\n",
      "- Recall: 0.8151\n",
      "- F1 Score: 0.8124\n",
      "- Confusion Matrix:\n",
      " [[2036    0    1    0  135]\n",
      " [   0  342  200  112    2]\n",
      " [   3  129  929    7  146]\n",
      " [   0   86    9 1499    0]\n",
      " [ 187    1  245    0  762]]\n",
      "===================================\n",
      "\n",
      "\n"
     ]
    }
   ],
   "source": [
    "classifiers = {\n",
    "    \"KNeighborsClassifier\": KNeighborsClassifier(),\n",
    "    \"DecisionTreeClassifier\": DecisionTreeClassifier(),\n",
    "    \"RandomForestClassifier\": RandomForestClassifier(),\n",
    "    \"AdaBoostClassifier\": AdaBoostClassifier(),\n",
    "    \"SVC\": SVC(),\n",
    "    \"LogisticRegression\": LogisticRegression(),\n",
    "}\n",
    "\n",
    "results = {}\n",
    "model_list = []\n",
    "accuracy_list = []\n",
    "for name, model in classifiers.items():\n",
    "    model.fit(X_train, y_train)\n",
    "    y_train_pred = model.predict(X_train)\n",
    "    y_test_pred = model.predict(X_test)\n",
    "    \n",
    "    train_accuracy, train_precision, train_recall, train_f1, train_confusion_mat = evaluate_model(y_train, y_train_pred)\n",
    "    test_accuracy, test_precision, test_recall, test_f1, test_confusion_mat = evaluate_model(y_test, y_test_pred)\n",
    "    \n",
    "    model_list.append(name)\n",
    "    accuracy_list.append(test_accuracy)\n",
    "\n",
    "    print(name)\n",
    "    print('Model performance for Training set:')\n",
    "    print(\"- Accuracy: {:.4f}\".format(train_accuracy))\n",
    "    print(\"- Precision: {:.4f}\".format(train_precision))\n",
    "    print(\"- Recall: {:.4f}\".format(train_recall))\n",
    "    print(\"- F1 Score: {:.4f}\".format(train_f1))\n",
    "    print(\"- Confusion Matrix:\\n\", train_confusion_mat)\n",
    "    print('----------------------------------')\n",
    "    print('Model performance for Test set:')\n",
    "    print(\"- Accuracy: {:.4f}\".format(test_accuracy))\n",
    "    print(\"- Precision: {:.4f}\".format(test_precision))\n",
    "    print(\"- Recall: {:.4f}\".format(test_recall))\n",
    "    print(\"- F1 Score: {:.4f}\".format(test_f1))\n",
    "    print(\"- Confusion Matrix:\\n\", test_confusion_mat)\n",
    "    print('='*35)\n",
    "    print('\\n')\n",
    "    \n",
    "    results[name] = {\n",
    "        \"Train Accuracy\": train_accuracy,\n",
    "        \"Train Precision\": train_precision,\n",
    "        \"Train Recall\": train_recall,\n",
    "        \"Train F1 Score\": train_f1,\n",
    "        \"Test Accuracy\": test_accuracy,\n",
    "        \"Test Precision\": test_precision,\n",
    "        \"Test Recall\": test_recall,\n",
    "        \"Test F1 Score\": test_f1\n",
    "    }\n",
    "\n"
   ]
  },
  {
   "cell_type": "code",
   "execution_count": 48,
   "metadata": {},
   "outputs": [],
   "source": [
    "data = list(zip(model_list, accuracy_list))\n",
    "\n",
    "# Create DataFrame\n",
    "accuracy_df = pd.DataFrame(data, columns=['Model Name', 'Accuracy'])\n",
    "\n",
    "# Sort DataFrame by Accuracy in descending order\n",
    "accuracy_df_sorted = accuracy_df.sort_values(by=\"Accuracy\", ascending=False)"
   ]
  },
  {
   "cell_type": "code",
   "execution_count": 49,
   "metadata": {},
   "outputs": [
    {
     "data": {
      "text/html": [
       "<div>\n",
       "<style scoped>\n",
       "    .dataframe tbody tr th:only-of-type {\n",
       "        vertical-align: middle;\n",
       "    }\n",
       "\n",
       "    .dataframe tbody tr th {\n",
       "        vertical-align: top;\n",
       "    }\n",
       "\n",
       "    .dataframe thead th {\n",
       "        text-align: right;\n",
       "    }\n",
       "</style>\n",
       "<table border=\"1\" class=\"dataframe\">\n",
       "  <thead>\n",
       "    <tr style=\"text-align: right;\">\n",
       "      <th></th>\n",
       "      <th>Model Name</th>\n",
       "      <th>Accuracy</th>\n",
       "    </tr>\n",
       "  </thead>\n",
       "  <tbody>\n",
       "    <tr>\n",
       "      <th>4</th>\n",
       "      <td>SVC</td>\n",
       "      <td>0.864149</td>\n",
       "    </tr>\n",
       "    <tr>\n",
       "      <th>3</th>\n",
       "      <td>AdaBoostClassifier</td>\n",
       "      <td>0.848338</td>\n",
       "    </tr>\n",
       "    <tr>\n",
       "      <th>2</th>\n",
       "      <td>RandomForestClassifier</td>\n",
       "      <td>0.844971</td>\n",
       "    </tr>\n",
       "    <tr>\n",
       "      <th>5</th>\n",
       "      <td>LogisticRegression</td>\n",
       "      <td>0.815108</td>\n",
       "    </tr>\n",
       "    <tr>\n",
       "      <th>1</th>\n",
       "      <td>DecisionTreeClassifier</td>\n",
       "      <td>0.749085</td>\n",
       "    </tr>\n",
       "    <tr>\n",
       "      <th>0</th>\n",
       "      <td>KNeighborsClassifier</td>\n",
       "      <td>0.721417</td>\n",
       "    </tr>\n",
       "  </tbody>\n",
       "</table>\n",
       "</div>"
      ],
      "text/plain": [
       "               Model Name  Accuracy\n",
       "4                     SVC  0.864149\n",
       "3      AdaBoostClassifier  0.848338\n",
       "2  RandomForestClassifier  0.844971\n",
       "5      LogisticRegression  0.815108\n",
       "1  DecisionTreeClassifier  0.749085\n",
       "0    KNeighborsClassifier  0.721417"
      ]
     },
     "execution_count": 49,
     "metadata": {},
     "output_type": "execute_result"
    }
   ],
   "source": [
    "accuracy_df_sorted"
   ]
  },
  {
   "cell_type": "code",
   "execution_count": 52,
   "metadata": {},
   "outputs": [
    {
     "name": "stdout",
     "output_type": "stream",
     "text": [
      "Best Parameters: {'kernel': 'linear', 'gamma': 0.0001, 'C': 10}\n",
      "Best Score: 0.857874575195005\n"
     ]
    }
   ],
   "source": [
    "from sklearn.model_selection import GridSearchCV\n",
    "\n",
    "# Define the parameter grid\n",
    "param_grid = {'C': [0.1, 1, 10, 100, 1000],\n",
    "              'gamma': [1, 0.1, 0.01, 0.001, 0.0001],\n",
    "              'kernel': ['rbf','linear']}\n",
    "\n",
    "# Create the GridSearchCV object\n",
    "grid_search = RandomizedSearchCV(SVC(), param_grid, cv=5, scoring='accuracy', n_jobs=-1)\n",
    "\n",
    "# Fit the grid search to the data\n",
    "grid_search.fit(X_train, y_train)\n",
    "\n",
    "# Get the best parameters and best score\n",
    "best_params = grid_search.best_params_\n",
    "best_score = grid_search.best_score_\n",
    "\n",
    "print(\"Best Parameters:\", best_params)\n",
    "print(\"Best Score:\", best_score)\n"
   ]
  },
  {
   "cell_type": "code",
   "execution_count": 53,
   "metadata": {},
   "outputs": [
    {
     "name": "stdout",
     "output_type": "stream",
     "text": [
      "Test Accuracy: 0.8647342995169082\n"
     ]
    }
   ],
   "source": [
    "from sklearn.metrics import accuracy_score\n",
    "\n",
    "# Get the best SVC model from the grid search\n",
    "best_svc = grid_search.best_estimator_\n",
    "\n",
    "# Predict labels on the test set\n",
    "y_test_pred = best_svc.predict(X_test)\n",
    "\n",
    "# Calculate accuracy score on the test set\n",
    "test_accuracy = accuracy_score(y_test, y_test_pred)\n",
    "\n",
    "print(\"Test Accuracy:\", test_accuracy)\n"
   ]
  },
  {
   "cell_type": "code",
   "execution_count": 57,
   "metadata": {},
   "outputs": [
    {
     "ename": "FileNotFoundError",
     "evalue": "[Errno 2] No such file or directory: 'sce/model.pkl'",
     "output_type": "error",
     "traceback": [
      "\u001b[1;31m---------------------------------------------------------------------------\u001b[0m",
      "\u001b[1;31mFileNotFoundError\u001b[0m                         Traceback (most recent call last)",
      "Cell \u001b[1;32mIn[57], line 4\u001b[0m\n\u001b[0;32m      1\u001b[0m \u001b[38;5;28;01mimport\u001b[39;00m \u001b[38;5;21;01mpickle\u001b[39;00m\n\u001b[0;32m      3\u001b[0m \u001b[38;5;66;03m# Save the trained model to a file\u001b[39;00m\n\u001b[1;32m----> 4\u001b[0m \u001b[38;5;28;01mwith\u001b[39;00m \u001b[38;5;28;43mopen\u001b[39;49m\u001b[43m(\u001b[49m\u001b[38;5;124;43m'\u001b[39;49m\u001b[38;5;124;43msce/model.pkl\u001b[39;49m\u001b[38;5;124;43m'\u001b[39;49m\u001b[43m,\u001b[49m\u001b[43m \u001b[49m\u001b[38;5;124;43m'\u001b[39;49m\u001b[38;5;124;43mwb\u001b[39;49m\u001b[38;5;124;43m'\u001b[39;49m\u001b[43m)\u001b[49m \u001b[38;5;28;01mas\u001b[39;00m file:\n\u001b[0;32m      5\u001b[0m     pickle\u001b[38;5;241m.\u001b[39mdump(best_svc, file)\n",
      "File \u001b[1;32mc:\\Backend\\venv\\lib\\site-packages\\IPython\\core\\interactiveshell.py:286\u001b[0m, in \u001b[0;36m_modified_open\u001b[1;34m(file, *args, **kwargs)\u001b[0m\n\u001b[0;32m    279\u001b[0m \u001b[38;5;28;01mif\u001b[39;00m file \u001b[38;5;129;01min\u001b[39;00m {\u001b[38;5;241m0\u001b[39m, \u001b[38;5;241m1\u001b[39m, \u001b[38;5;241m2\u001b[39m}:\n\u001b[0;32m    280\u001b[0m     \u001b[38;5;28;01mraise\u001b[39;00m \u001b[38;5;167;01mValueError\u001b[39;00m(\n\u001b[0;32m    281\u001b[0m         \u001b[38;5;124mf\u001b[39m\u001b[38;5;124m\"\u001b[39m\u001b[38;5;124mIPython won\u001b[39m\u001b[38;5;124m'\u001b[39m\u001b[38;5;124mt let you open fd=\u001b[39m\u001b[38;5;132;01m{\u001b[39;00mfile\u001b[38;5;132;01m}\u001b[39;00m\u001b[38;5;124m by default \u001b[39m\u001b[38;5;124m\"\u001b[39m\n\u001b[0;32m    282\u001b[0m         \u001b[38;5;124m\"\u001b[39m\u001b[38;5;124mas it is likely to crash IPython. If you know what you are doing, \u001b[39m\u001b[38;5;124m\"\u001b[39m\n\u001b[0;32m    283\u001b[0m         \u001b[38;5;124m\"\u001b[39m\u001b[38;5;124myou can use builtins\u001b[39m\u001b[38;5;124m'\u001b[39m\u001b[38;5;124m open.\u001b[39m\u001b[38;5;124m\"\u001b[39m\n\u001b[0;32m    284\u001b[0m     )\n\u001b[1;32m--> 286\u001b[0m \u001b[38;5;28;01mreturn\u001b[39;00m io_open(file, \u001b[38;5;241m*\u001b[39margs, \u001b[38;5;241m*\u001b[39m\u001b[38;5;241m*\u001b[39mkwargs)\n",
      "\u001b[1;31mFileNotFoundError\u001b[0m: [Errno 2] No such file or directory: 'sce/model.pkl'"
     ]
    }
   ],
   "source": [
    "import pickle\n",
    "\n",
    "# Save the trained model to a file\n",
    "with open('sce/model.pkl', 'wb') as file:\n",
    "    pickle.dump(best_svc, file)\n"
   ]
  },
  {
   "cell_type": "code",
   "execution_count": 59,
   "metadata": {},
   "outputs": [
    {
     "name": "stderr",
     "output_type": "stream",
     "text": [
      "ERROR: Could not find a version that satisfies the requirement pickle (from versions: none)\n",
      "ERROR: No matching distribution found for pickle\n"
     ]
    }
   ],
   "source": [
    "!pip3 install pickle"
   ]
  },
  {
   "cell_type": "code",
   "execution_count": 66,
   "metadata": {},
   "outputs": [
    {
     "data": {
      "text/plain": [
       "['model.joblib']"
      ]
     },
     "execution_count": 66,
     "metadata": {},
     "output_type": "execute_result"
    }
   ],
   "source": [
    "import os\n",
    "from joblib import dump\n",
    "\n",
    "# Create the directory if it doesn't exist\n",
    "# Save the trained model to a file\n",
    "dump(best_svc, 'model.joblib')\n"
   ]
  },
  {
   "cell_type": "code",
   "execution_count": null,
   "metadata": {},
   "outputs": [],
   "source": []
  }
 ],
 "metadata": {
  "kernelspec": {
   "display_name": "Python 3",
   "language": "python",
   "name": "python3"
  },
  "language_info": {
   "codemirror_mode": {
    "name": "ipython",
    "version": 3
   },
   "file_extension": ".py",
   "mimetype": "text/x-python",
   "name": "python",
   "nbconvert_exporter": "python",
   "pygments_lexer": "ipython3",
   "version": "3.9.19"
  }
 },
 "nbformat": 4,
 "nbformat_minor": 2
}
